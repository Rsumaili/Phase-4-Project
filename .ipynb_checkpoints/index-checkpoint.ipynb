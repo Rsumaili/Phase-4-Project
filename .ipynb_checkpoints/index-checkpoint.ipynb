{
 "cells": [
  {
   "cell_type": "markdown",
   "metadata": {},
   "source": [
    "# 🎬 MOVIELENS MOVIE RECOMMENDATION SYSTEM"
   ]
  },
  {
   "cell_type": "markdown",
   "metadata": {},
   "source": [
    "# Introduction\n",
    "This project applies collaborative filtering to build a personalized movie recommendation system using the MovieLens 100K dataset from the GroupLens research lab at the University of Minnesota. The objective is to recommend the Top 5 movies to a user based on their historical ratings, with the aim of enhancing user satisfaction and engagement on a movie-streaming platform.\n",
    "\n",
    "## 1. BUSINESS UNDERSTANDING\n",
    "In the highly competitive digital entertainment space, movie streaming platforms face the challenge of keeping users engaged by helping them quickly discover content they enjoy. With thousands of movie titles available, users often experience choice overload, leading to reduced satisfaction and potential churn. A personalized recommendation system offers a strategic solution to this challenge by analyzing user preferences and predicting what each individual might enjoy watching next. This project aims to build such a system using the MovieLens 100K dataset, leveraging collaborative filtering techniques to recommend the Top 5 movies for each user based on their past ratings. By delivering accurate and relevant recommendations, the system can enhance user experience, increase viewing time, and support the business goal of improving customer retention and platform loyalty.\n",
    "\n",
    "### 1.1. Business Problem\n",
    "Movie streaming platforms face a constant challenge of helping users quickly find content they’ll enjoy. With thousands of titles available, users often feel overwhelmed, which leads to reduced watch time and higher churn. By implementing a recommendation engine, platforms can increase engagement and customer satisfaction by offering personalized content.\n",
    "\n",
    "### 1.2. Key Business Questions\n",
    "- What user behaviors or rating patterns can be leveraged to predict future movie preferences?\n",
    "\n",
    "- Which recommendation technique offers better predictive performance: memory-based collaborative filtering or model-based filtering\n",
    "\n",
    "- Can the model generate high-quality, personalized Top 5 recommendations for individual users?\n",
    "\n",
    "## 2. 2. DATA UNDERSTANDING\n",
    "### 2.1. DATA PREPROCESSING\n",
    "#### 2.1.1. The Data\n",
    "The dataset used for this project is the MovieLens 32M dataset, a comprehensive and high-quality benchmark dataset maintained by the GroupLens research lab at the University of Minnesota. Released in May 2024, the dataset was collected in October 2023 and includes an extensive set of movie rating interactions by real users. Specifically, the dataset contains 32 million explicit user ratings, 2 million tag applications, covering 87,585 movies rated by 200,948 users. Each rating in the dataset is on a 0.5–5.0 scale in 0.5-point increments.\n",
    "\n",
    "The dataset is composed of several CSV files that store distinct but related information. The primary files relevant for collaborative filtering include:\n",
    "\n",
    "- ratings.csv, which contains four columns: userId, movieId, rating, and timestamp, representing a user's interaction with a movie.\n",
    "\n",
    "- movies.csv, which includes metadata such as the movie title and associated genres.\n",
    "\n",
    "- tags.csv, which logs user-submitted tags on movies, potentially useful for content-based or hybrid filtering.\n",
    "\n",
    "- links.csv, which provides external identifiers such as IMDb and TMDb IDs for integration with third-party data.\n",
    "\n",
    "This rich combination of user behavior data, movie metadata, and semantic tagging allows for flexible modeling approaches including collaborative, content-based, and hybrid recommendation systems. For the purposes of this project, the focus is initially on collaborative filtering using the ratings data, with future potential for extending into hybrid approaches using tags and genres.\n",
    "\n",
    "### 2.2 DATA PREPARATION\n",
    "Data preparation is a crucial phase in building a recommendation system, as it transforms raw input into a format suitable for modeling, especially in collaborative filtering where user-item interactions must be structured correctly. Below are the detailed steps followed for preparing the MovieLens 32M dataset:\n",
    "#### 1. Importing Necessary Libraries\n",
    "#### 2. Loading the Dataset\n",
    "The MovieLens 32M dataset consists of several CSV files. The primary files loaded were:\n",
    "- ratings.csv: Core data containing userId, movieId, rating, and timestamp\n",
    "\n",
    "- movies.csv: Contains movie movieId, title, and genres\n",
    "\n",
    "#### 3. Data Cleaning and Inspection\n",
    "This involved: \n",
    "- Missing Values: Checked all loaded datasets for missing or null values.\n",
    "\n",
    "- Duplicate Entries: Verified and removed any duplicate user-movie interactions.\n",
    "\n",
    "- Invalid Ratings: Ensured ratings were within the allowed 0.5 to 5.0 scale.\n",
    "\n",
    "#### 4. User and Movie Activity Filtering\n",
    "\n",
    "Given the dataset's size and inherent sparsity:\n",
    "\n",
    "- Retained only users with at least 20 ratings to ensure collaborative signal.\n",
    "\n",
    "- Retained only movies rated by at least 50 users to reduce noise from rarely rated content.\n",
    "\n",
    "This filtering step improved both the quality and efficiency of the recommendation model.\n",
    "\n",
    "#### 5. Encoding & Transformation\n",
    "While collaborative filtering models (like SVD or KNN) do not need one-hot encoding, the following transformations were performed:\n",
    "\n",
    "- Timestamp Conversion: Converted timestamp to datetime for potential time-based filtering or visualizations.\n",
    "\n",
    "- Genre Splitting: Genres column in movies.csv split into multiple tags for potential use in hybrid filtering(WE WILL CONSIDER THIS)."
   ]
  },
  {
   "cell_type": "markdown",
   "metadata": {},
   "source": [
    "#### Importing necessary libraries"
   ]
  },
  {
   "cell_type": "code",
   "execution_count": 135,
   "metadata": {},
   "outputs": [],
   "source": [
    "# Data handling and analysis\n",
    "import pandas as pd\n",
    "import numpy as np\n",
    "\n",
    "# Visualization\n",
    "import matplotlib.pyplot as plt\n",
    "import seaborn as sns\n",
    "import plotly.express as px\n",
    "\n",
    "# Timestamp handling\n",
    "from datetime import datetime\n",
    "\n",
    "# Warnings\n",
    "import warnings\n",
    "warnings.filterwarnings('ignore')\n",
    "\n",
    "# Recommender-specific tools\n",
    "from surprise import Dataset, Reader, SVD, KNNBasic\n",
    "from surprise.model_selection import train_test_split, cross_validate\n",
    "from surprise import accuracy\n",
    "\n",
    "# Utility\n",
    "from sklearn.metrics.pairwise import cosine_similarity\n",
    "from sklearn.preprocessing import StandardScaler"
   ]
  },
  {
   "cell_type": "markdown",
   "metadata": {},
   "source": [
    "#### Loading the datasets"
   ]
  },
  {
   "cell_type": "code",
   "execution_count": 136,
   "metadata": {},
   "outputs": [
    {
     "name": "stdout",
     "output_type": "stream",
     "text": [
      "Ratings shape: (100836, 4)\n",
      "Movies shape: (9742, 3)\n",
      "\n",
      "Ratings:\n",
      "   userId  movieId  rating  timestamp\n",
      "0       1        1     4.0  964982703\n",
      "1       1        3     4.0  964981247\n",
      "2       1        6     4.0  964982224\n",
      "3       1       47     5.0  964983815\n",
      "4       1       50     5.0  964982931\n",
      "\n",
      "Movies:\n",
      "   movieId                               title  \\\n",
      "0        1                    Toy Story (1995)   \n",
      "1        2                      Jumanji (1995)   \n",
      "2        3             Grumpier Old Men (1995)   \n",
      "3        4            Waiting to Exhale (1995)   \n",
      "4        5  Father of the Bride Part II (1995)   \n",
      "\n",
      "                                        genres  \n",
      "0  Adventure|Animation|Children|Comedy|Fantasy  \n",
      "1                   Adventure|Children|Fantasy  \n",
      "2                               Comedy|Romance  \n",
      "3                         Comedy|Drama|Romance  \n",
      "4                                       Comedy  \n"
     ]
    }
   ],
   "source": [
    "# Path to extracted MovieLens-32M directory\n",
    "path = 'ml-latest-small/ml-latest-small/' \n",
    "\n",
    "# Load datasets\n",
    "ratings = pd.read_csv(path + 'ratings.csv')\n",
    "movies = pd.read_csv(path + 'movies.csv')\n",
    "\n",
    "# Display the shapes of the datasets\n",
    "print(\"Ratings shape:\", ratings.shape)\n",
    "print(\"Movies shape:\", movies.shape)\n",
    "\n",
    "# Preview data\n",
    "print(\"\\nRatings:\")\n",
    "print(ratings.head())\n",
    "\n",
    "print(\"\\nMovies:\")\n",
    "print(movies.head())\n"
   ]
  },
  {
   "cell_type": "markdown",
   "metadata": {},
   "source": [
    "We successfully loaded two primary datasets from the MovieLens collection: ratings.csv and movies.csv. The ratings dataset contains 100,836 entries capturing user interactions with movies through ratings and timestamps, while the movies dataset includes 9,742 unique movies with corresponding titles and genre information. A quick preview confirms the structure and content of these datasets, showing user IDs, movie IDs, rating scores, and genres such as Adventure, Comedy, and Romance."
   ]
  },
  {
   "cell_type": "markdown",
   "metadata": {},
   "source": [
    "#### Data cleaning and inspection"
   ]
  },
  {
   "cell_type": "code",
   "execution_count": 137,
   "metadata": {},
   "outputs": [
    {
     "name": "stdout",
     "output_type": "stream",
     "text": [
      "Missing values in ratings:\n",
      " userId       0\n",
      "movieId      0\n",
      "rating       0\n",
      "timestamp    0\n",
      "dtype: int64\n",
      "\n",
      "Missing values in movies:\n",
      " movieId    0\n",
      "title      0\n",
      "genres     0\n",
      "dtype: int64\n",
      "\n",
      "Duplicate entries in ratings: 0\n",
      "Duplicate entries in movies: 0\n",
      "\n",
      "Rating statistics:\n",
      "count    100836.000000\n",
      "mean          3.501557\n",
      "std           1.042529\n",
      "min           0.500000\n",
      "25%           3.000000\n",
      "50%           3.500000\n",
      "75%           4.000000\n",
      "max           5.000000\n",
      "Name: rating, dtype: float64\n",
      "\n",
      "Invalid ratings:\n",
      " Empty DataFrame\n",
      "Columns: [userId, movieId, rating, timestamp]\n",
      "Index: []\n",
      "\n",
      "Cleaned ratings data:\n",
      "    userId  movieId  rating           timestamp\n",
      "0       1        1     4.0 2000-07-30 18:45:03\n",
      "1       1        3     4.0 2000-07-30 18:20:47\n",
      "2       1        6     4.0 2000-07-30 18:37:04\n",
      "3       1       47     5.0 2000-07-30 19:03:35\n",
      "4       1       50     5.0 2000-07-30 18:48:51\n"
     ]
    }
   ],
   "source": [
    "# Check for missing values in all datasets\n",
    "print(\"Missing values in ratings:\\n\", ratings.isnull().sum())\n",
    "print(\"\\nMissing values in movies:\\n\", movies.isnull().sum())\n",
    "\n",
    "# Check for duplicate rows\n",
    "print(\"\\nDuplicate entries in ratings:\", ratings.duplicated().sum())\n",
    "print(\"Duplicate entries in movies:\", movies.duplicated().sum())\n",
    "\n",
    "# Remove duplicates if any\n",
    "ratings.drop_duplicates(inplace=True)\n",
    "movies.drop_duplicates(inplace=True)\n",
    "\n",
    "# Check rating scale\n",
    "print(\"\\nRating statistics:\")\n",
    "print(ratings['rating'].describe())\n",
    "\n",
    "# Ensure all ratings are between 0.5 and 5.0\n",
    "invalid_ratings = ratings[~ratings['rating'].between(0.5, 5.0)]\n",
    "print(\"\\nInvalid ratings:\\n\", invalid_ratings)\n",
    "\n",
    "# Convert timestamp to datetime for inspection and possible time-based analysis\n",
    "ratings['timestamp'] = pd.to_datetime(ratings['timestamp'], unit='s')\n",
    "\n",
    "# Preview cleaned data\n",
    "print(\"\\nCleaned ratings data:\\n\", ratings.head())\n"
   ]
  },
  {
   "cell_type": "markdown",
   "metadata": {},
   "source": [
    "In the data cleaning and inspection above, we validated the quality and consistency of the loaded datasets. We began by checking for missing values in both ratings and movies datasets and found none, indicating completeness. We then inspected for duplicate entries, but both datasets were free of redundancies. Next, we examined the rating distribution, confirming all values were within the valid range of 0.5 to 5.0. To enhance temporal analysis and ensure better interpretability, the Unix timestamps in the ratings dataset were converted to human-readable datetime format. Finally, we previewed the cleaned ratings data to confirm the dataset was ready for further processing and modeling. "
   ]
  },
  {
   "cell_type": "markdown",
   "metadata": {},
   "source": [
    "#### User and Movie Activity Filtering"
   ]
  },
  {
   "cell_type": "code",
   "execution_count": 138,
   "metadata": {},
   "outputs": [
    {
     "name": "stdout",
     "output_type": "stream",
     "text": [
      "Original ratings shape: (100836, 4)\n",
      "Filtered ratings shape: (41360, 4)\n"
     ]
    },
    {
     "data": {
      "text/html": [
       "<div>\n",
       "<style scoped>\n",
       "    .dataframe tbody tr th:only-of-type {\n",
       "        vertical-align: middle;\n",
       "    }\n",
       "\n",
       "    .dataframe tbody tr th {\n",
       "        vertical-align: top;\n",
       "    }\n",
       "\n",
       "    .dataframe thead th {\n",
       "        text-align: right;\n",
       "    }\n",
       "</style>\n",
       "<table border=\"1\" class=\"dataframe\">\n",
       "  <thead>\n",
       "    <tr style=\"text-align: right;\">\n",
       "      <th></th>\n",
       "      <th>userId</th>\n",
       "      <th>movieId</th>\n",
       "      <th>rating</th>\n",
       "      <th>timestamp</th>\n",
       "    </tr>\n",
       "  </thead>\n",
       "  <tbody>\n",
       "    <tr>\n",
       "      <th>0</th>\n",
       "      <td>1</td>\n",
       "      <td>1</td>\n",
       "      <td>4.0</td>\n",
       "      <td>2000-07-30 18:45:03</td>\n",
       "    </tr>\n",
       "    <tr>\n",
       "      <th>1</th>\n",
       "      <td>1</td>\n",
       "      <td>3</td>\n",
       "      <td>4.0</td>\n",
       "      <td>2000-07-30 18:20:47</td>\n",
       "    </tr>\n",
       "    <tr>\n",
       "      <th>2</th>\n",
       "      <td>1</td>\n",
       "      <td>6</td>\n",
       "      <td>4.0</td>\n",
       "      <td>2000-07-30 18:37:04</td>\n",
       "    </tr>\n",
       "    <tr>\n",
       "      <th>3</th>\n",
       "      <td>1</td>\n",
       "      <td>47</td>\n",
       "      <td>5.0</td>\n",
       "      <td>2000-07-30 19:03:35</td>\n",
       "    </tr>\n",
       "    <tr>\n",
       "      <th>4</th>\n",
       "      <td>1</td>\n",
       "      <td>50</td>\n",
       "      <td>5.0</td>\n",
       "      <td>2000-07-30 18:48:51</td>\n",
       "    </tr>\n",
       "  </tbody>\n",
       "</table>\n",
       "</div>"
      ],
      "text/plain": [
       "   userId  movieId  rating           timestamp\n",
       "0       1        1     4.0 2000-07-30 18:45:03\n",
       "1       1        3     4.0 2000-07-30 18:20:47\n",
       "2       1        6     4.0 2000-07-30 18:37:04\n",
       "3       1       47     5.0 2000-07-30 19:03:35\n",
       "4       1       50     5.0 2000-07-30 18:48:51"
      ]
     },
     "execution_count": 138,
     "metadata": {},
     "output_type": "execute_result"
    }
   ],
   "source": [
    "# Minimum number of ratings a user must have to be considered active\n",
    "MIN_USER_RATINGS = 20\n",
    "\n",
    "# Minimum number of ratings a movie must have to be considered popular\n",
    "MIN_MOVIE_RATINGS = 50\n",
    "\n",
    "# Count the number of ratings per user\n",
    "user_rating_counts = ratings['userId'].value_counts()\n",
    "active_users = user_rating_counts[user_rating_counts >= MIN_USER_RATINGS].index\n",
    "\n",
    "# Count the number of ratings per movie\n",
    "movie_rating_counts = ratings['movieId'].value_counts()\n",
    "popular_movies = movie_rating_counts[movie_rating_counts >= MIN_MOVIE_RATINGS].index\n",
    "\n",
    "# Filter ratings to include only active users and popular movies\n",
    "filtered_ratings = ratings[\n",
    "    (ratings['userId'].isin(active_users)) &\n",
    "    (ratings['movieId'].isin(popular_movies))\n",
    "]\n",
    "\n",
    "# Show resulting dataset shape and a preview\n",
    "print(f\"Original ratings shape: {ratings.shape}\")\n",
    "print(f\"Filtered ratings shape: {filtered_ratings.shape}\")\n",
    "filtered_ratings.head()\n"
   ]
  },
  {
   "cell_type": "markdown",
   "metadata": {},
   "source": [
    "In the code above we addressed the sparsity inherent in large user-item datasets by filtering out less informative data points. Specifically, we retained only active users (those who had rated at least 20 movies) and popular movies (those that had been rated by at least 50 users). This was done to ensure a sufficient signal for collaborative filtering, as sparse data can lead to poor recommendation quality. After applying these thresholds, the dataset was reduced from 100,836 to 41,360 ratings. This filtering significantly improved the density and relevance of user-item interactions, thereby increasing the model's ability to make accurate and personalized recommendations."
   ]
  },
  {
   "cell_type": "markdown",
   "metadata": {},
   "source": [
    "#### Encoding & Transformation"
   ]
  },
  {
   "cell_type": "code",
   "execution_count": 139,
   "metadata": {},
   "outputs": [
    {
     "name": "stdout",
     "output_type": "stream",
     "text": [
      "\n",
      "Sample genres after splitting:\n",
      "                                 title  \\\n",
      "0                    Toy Story (1995)   \n",
      "1                      Jumanji (1995)   \n",
      "2             Grumpier Old Men (1995)   \n",
      "3            Waiting to Exhale (1995)   \n",
      "4  Father of the Bride Part II (1995)   \n",
      "\n",
      "                                              genres  \n",
      "0  [Adventure, Animation, Children, Comedy, Fantasy]  \n",
      "1                     [Adventure, Children, Fantasy]  \n",
      "2                                  [Comedy, Romance]  \n",
      "3                           [Comedy, Drama, Romance]  \n",
      "4                                           [Comedy]  \n",
      "\n",
      "Sample filtered_ratings after timestamp conversion:\n",
      "    userId  movieId  rating           timestamp\n",
      "0       1        1     4.0 2000-07-30 18:45:03\n",
      "1       1        3     4.0 2000-07-30 18:20:47\n",
      "2       1        6     4.0 2000-07-30 18:37:04\n",
      "3       1       47     5.0 2000-07-30 19:03:35\n",
      "4       1       50     5.0 2000-07-30 18:48:51\n"
     ]
    }
   ],
   "source": [
    "# Converting timestamp for the filtered_ratings dataframe\n",
    "filtered_ratings['timestamp'] = pd.to_datetime(filtered_ratings['timestamp'])\n",
    "\n",
    "# splitting genres\n",
    "movies['genres'] = movies['genres'].apply(lambda x: x.split('|') if isinstance(x, str) else [])\n",
    "\n",
    "print(\"\\nSample genres after splitting:\\n\", movies[['title', 'genres']].head())\n",
    "print(\"\\nSample filtered_ratings after timestamp conversion:\\n\", filtered_ratings.head())"
   ]
  },
  {
   "cell_type": "markdown",
   "metadata": {},
   "source": [
    "In Encoding & Transformation, we enhanced our dataset to support more advanced analysis and potential hybrid modeling. First, we converted the timestamp column in the filtered_ratings dataframe to a human-readable datetime format. This enables the possibility of incorporating temporal trends or conducting time-based analysis in future modeling steps. Next, we transformed the genres column in the movies dataset from a single string into a list of individual genres. This preprocessing step is critical for any future hybrid recommendation techniques, as it allows us to represent genre metadata in a structured format and combine it with user behavior patterns. These transformations prepare the dataset for both collaborative and content-based filtering strategies."
   ]
  },
  {
   "cell_type": "markdown",
   "metadata": {},
   "source": [
    "### Exploratory Data analysis(EDA)"
   ]
  },
  {
   "cell_type": "code",
   "execution_count": 140,
   "metadata": {},
   "outputs": [
    {
     "data": {
      "image/png": "[encoded data removed]",
      "text/plain": [
       "<Figure size 576x360 with 1 Axes>"
      ]
     },
     "metadata": {
      "needs_background": "light"
     },
     "output_type": "display_data"
    }
   ],
   "source": [
    "plt.figure(figsize=(8,5))\n",
    "sns.countplot(x='rating', data=filtered_ratings, palette='viridis')\n",
    "plt.title('Distribution of Movie Ratings')\n",
    "plt.xlabel('Rating')\n",
    "plt.ylabel('Number of Ratings')\n",
    "plt.show()"
   ]
  },
  {
   "cell_type": "markdown",
   "metadata": {},
   "source": [
    "In the Exploratory Data Analysis (EDA), we began by examining the distribution of movie ratings using a count plot. The resulting visualization shows that the most frequent rating given by users is 4.0, followed by 5.0 and 3.0, indicating a tendency for users to rate movies positively. Ratings of 3.5 and 4.5 also appear relatively often, while lower ratings like 0.5, 1.0, and 1.5 are much less common. This skew toward higher ratings suggests that users are more likely to rate movies they enjoy, which is a common trend in user-generated content. "
   ]
  },
  {
   "cell_type": "code",
   "execution_count": 141,
   "metadata": {},
   "outputs": [
    {
     "data": {
      "image/png": "[encoded data removed]",
      "text/plain": [
       "<Figure size 720x360 with 1 Axes>"
      ]
     },
     "metadata": {
      "needs_background": "light"
     },
     "output_type": "display_data"
    }
   ],
   "source": [
    "top_movies = filtered_ratings.groupby('movieId')['rating'].count().sort_values(ascending=False).head(10)\n",
    "top_movies = top_movies.reset_index().merge(movies[['movieId', 'title']], on='movieId')\n",
    "\n",
    "plt.figure(figsize=(10, 5))\n",
    "sns.barplot(data=top_movies, x='rating', y='title', palette='viridis')\n",
    "plt.title('Top 10 Most Rated Movies')\n",
    "plt.xlabel('Number of Ratings')\n",
    "plt.ylabel('Movie Title')\n",
    "plt.show()\n"
   ]
  },
  {
   "cell_type": "markdown",
   "metadata": {},
   "source": [
    "We identified the Top 10 Most Rated Movies based on the number of user interactions. By grouping the filtered_ratings dataset by movieId and counting the number of ratings, we revealed which movies were most frequently rated. The resulting bar plot shows that \"Forrest Gump (1994)\", \"The Shawshank Redemption (1994)\", and \"Pulp Fiction (1994)\" are the top three most rated movies in the dataset. This suggests that popular titles from the 1990s remain highly engaged by users, likely due to their enduring critical acclaim and cultural impact."
   ]
  },
  {
   "cell_type": "code",
   "execution_count": 142,
   "metadata": {},
   "outputs": [
    {
     "data": {
      "image/png": "[encoded data removed]",
      "text/plain": [
       "<Figure size 720x360 with 1 Axes>"
      ]
     },
     "metadata": {
      "needs_background": "light"
     },
     "output_type": "display_data"
    }
   ],
   "source": [
    "# Explode genres to one genre per row\n",
    "genre_exploded = movies.explode('genres')\n",
    "genre_counts = genre_exploded['genres'].value_counts()\n",
    "\n",
    "plt.figure(figsize=(10, 5))\n",
    "sns.barplot(x=genre_counts.values, y=genre_counts.index, palette='coolwarm')\n",
    "plt.title('Genre Distribution')\n",
    "plt.xlabel('Number of Movies')\n",
    "plt.ylabel('Genre')\n",
    "plt.show()\n"
   ]
  },
  {
   "cell_type": "markdown",
   "metadata": {},
   "source": [
    "Analyzed the genre distribution by breaking down multi-genre entries into individual rows using the explode() function. This allowed us to count how many times each genre appears across all movies, regardless of whether a movie belongs to multiple genres.\n",
    "\n",
    "The resulting bar plot reveals that Drama, Comedy, and Thriller are the most represented genres in the dataset. This suggests a strong user interest and content availability in these categories, which is important for understanding the type of content that dominates the platform. For a recommendation system, this indicates that users are more likely to encounter and rate movies in these genres, potentially influencing collaborative filtering outcomes due to higher co-rating activity in these categories."
   ]
  },
  {
   "cell_type": "code",
   "execution_count": 143,
   "metadata": {},
   "outputs": [
    {
     "data": {
      "image/png": "[encoded data removed]",
      "text/plain": [
       "<Figure size 720x288 with 1 Axes>"
      ]
     },
     "metadata": {
      "needs_background": "light"
     },
     "output_type": "display_data"
    }
   ],
   "source": [
    "ratings_by_year = filtered_ratings.copy()\n",
    "ratings_by_year['year'] = ratings_by_year['timestamp'].dt.year\n",
    "\n",
    "yearly_avg = ratings_by_year.groupby('year')['rating'].mean()\n",
    "\n",
    "plt.figure(figsize=(10, 4))\n",
    "sns.lineplot(x=yearly_avg.index, y=yearly_avg.values, marker='o')\n",
    "plt.title('Average Rating Over Years')\n",
    "plt.xlabel('Year')\n",
    "plt.ylabel('Average Rating')\n",
    "plt.grid(True)\n",
    "plt.show()\n"
   ]
  },
  {
   "cell_type": "markdown",
   "metadata": {},
   "source": [
    "In this analysis, we explored how average movie ratings have changed over time by extracting the year from each rating's timestamp and calculating the average rating per year.\n",
    "\n",
    "The resulting line plot shows that average ratings over the years range between 3.52 and 4.11, indicating relatively stable user satisfaction levels with slight fluctuations. Peaks and troughs in the graph may reflect changes in movie quality, shifts in user demographics, or varying rating behaviors over time. "
   ]
  },
  {
   "cell_type": "markdown",
   "metadata": {},
   "source": [
    "## Model building "
   ]
  },
  {
   "cell_type": "code",
   "execution_count": 144,
   "metadata": {},
   "outputs": [],
   "source": [
    "# Prepare data for Surprise library\n",
    "# Only the filtered_ratings DataFrame is used here, with userId, movieId, and rating\n",
    "reader = Reader(rating_scale=(0.5, 5.0))\n",
    "data = Dataset.load_from_df(filtered_ratings[['userId', 'movieId', 'rating']], reader)\n",
    "\n",
    "# Split the dataset into training and testing sets\n",
    "trainset, testset = train_test_split(data, test_size=0.2, random_state=42)"
   ]
  },
  {
   "cell_type": "markdown",
   "metadata": {},
   "source": [
    "#### MODEL 1: SVD (Model-Based Collaborative Filtering)\n",
    "Singular Value Decomposition (SVD) is a matrix factorization method that decomposes the user-item interaction matrix into latent features, capturing hidden relationships between users and movies."
   ]
  },
  {
   "cell_type": "code",
   "execution_count": 145,
   "metadata": {},
   "outputs": [
    {
     "name": "stdout",
     "output_type": "stream",
     "text": [
      "\n",
      "Training model-based collaborative filtering using SVD...\n",
      "RMSE: 0.8368\n",
      "MAE:  0.6395\n"
     ]
    }
   ],
   "source": [
    "# MODEL 1: SVD (Model-Based Collaborative Filtering)\n",
    "print(\"\\nTraining model-based collaborative filtering using SVD...\")\n",
    "svd = SVD()\n",
    "svd.fit(trainset)\n",
    "\n",
    "# Predict ratings on the testset\n",
    "svd_predictions = svd.test(testset)\n",
    "\n",
    "# Evaluate performance\n",
    "svd_rmse = accuracy.rmse(svd_predictions)\n",
    "svd_mae = accuracy.mae(svd_predictions)"
   ]
  },
  {
   "cell_type": "markdown",
   "metadata": {},
   "source": [
    "Predictions from the above model are made on unseen data (testset), and performance is measured using Root Mean Squared Error (RMSE) and Mean Absolute Error (MAE)."
   ]
  },
  {
   "cell_type": "markdown",
   "metadata": {},
   "source": [
    "#### MODEL 2: KNNBasic (Memory-Based Collaborative Filtering)\n",
    "In this model, we apply KNNBasic, a memory-based collaborative filtering algorithm that recommends items by measuring similarity between movies using the cosine similarity metric. Specifically, we use item-based filtering, which identifies movies that are rated similarly by many users and suggests them to users who liked similar ones. "
   ]
  },
  {
   "cell_type": "code",
   "execution_count": 146,
   "metadata": {},
   "outputs": [
    {
     "name": "stdout",
     "output_type": "stream",
     "text": [
      "\n",
      "Training memory-based collaborative filtering using KNNBasic...\n",
      "Computing the cosine similarity matrix...\n",
      "Done computing similarity matrix.\n",
      "RMSE: 0.8844\n",
      "MAE:  0.6753\n"
     ]
    }
   ],
   "source": [
    "# MODEL 2: KNNBasic (Memory-Based Collaborative Filtering)\n",
    "print(\"\\nTraining memory-based collaborative filtering using KNNBasic...\")\n",
    "sim_options = {\n",
    "    'name': 'cosine',  # Similarity metric\n",
    "    'user_based': False  # Set to True for user-based, False for item-based\n",
    "}\n",
    "\n",
    "knn = KNNBasic(sim_options=sim_options)\n",
    "knn.fit(trainset)\n",
    "\n",
    "# Predict ratings on the testset\n",
    "knn_predictions = knn.test(testset)\n",
    "\n",
    "# Evaluate performance\n",
    "knn_rmse = accuracy.rmse(knn_predictions)\n",
    "knn_mae = accuracy.mae(knn_predictions)"
   ]
  },
  {
   "cell_type": "markdown",
   "metadata": {},
   "source": [
    "After training on the trainset, predictions were made on the testset. The model achieved an RMSE of 0.8844 and an MAE of 0.6753, which, while slightly less accurate than the SVD model, Since lower RMSE and MAE values indicate better predictive performance it still indicates reasonable performance. Memory-based methods are intuitive and interpretable, especially for smaller datasets, but can struggle with scalability and sparsity compared to model-based approaches like SVD."
   ]
  },
  {
   "cell_type": "code",
   "execution_count": 147,
   "metadata": {},
   "outputs": [
    {
     "name": "stdout",
     "output_type": "stream",
     "text": [
      "\n",
      "Summary of Model Performance:\n",
      "SVD RMSE: 0.8368, MAE: 0.6395\n",
      "KNNBasic RMSE: 0.8844, MAE: 0.6753\n",
      "\n",
      "Generating Top 5 recommendations for all users using SVD model...\n",
      "\n",
      "Top 5 movieId recommendations for user 555: [(1214, 4.55450203620143), (1198, 4.529075909589954), (1206, 4.517659048595442), (1196, 4.501856877458921), (589, 4.462523894188468)]\n",
      "\n",
      "Recommended Movie Titles:\n",
      "Alien (1979) (Predicted Rating: 4.55)\n",
      "Raiders of the Lost Ark (Indiana Jones and the Raiders of the Lost Ark) (1981) (Predicted Rating: 4.53)\n",
      "Clockwork Orange, A (1971) (Predicted Rating: 4.52)\n",
      "Star Wars: Episode V - The Empire Strikes Back (1980) (Predicted Rating: 4.50)\n",
      "Terminator 2: Judgment Day (1991) (Predicted Rating: 4.46)\n"
     ]
    }
   ],
   "source": [
    "# Summary of Model Performance\n",
    "print(\"\\nSummary of Model Performance:\")\n",
    "print(f\"SVD RMSE: {svd_rmse:.4f}, MAE: {svd_mae:.4f}\")\n",
    "print(f\"KNNBasic RMSE: {knn_rmse:.4f}, MAE: {knn_mae:.4f}\")\n",
    "\n",
    "# Top 5 Recommendations for a Sample User\n",
    "def get_top_n_recommendations(predictions, n=5):\n",
    "    from collections import defaultdict\n",
    "    top_n = defaultdict(list)\n",
    "    for uid, iid, true_r, est, _ in predictions:\n",
    "        top_n[uid].append((iid, est))\n",
    "\n",
    "    # Keep only top n for each user\n",
    "    for uid, user_ratings in top_n.items():\n",
    "        user_ratings.sort(key=lambda x: x[1], reverse=True)\n",
    "        top_n[uid] = user_ratings[:n]\n",
    "    return top_n\n",
    "\n",
    "# Generate top 5 movie recommendations for all users based on SVD model\n",
    "print(\"\\nGenerating Top 5 recommendations for all users using SVD model...\")\n",
    "svd_top_5 = get_top_n_recommendations(svd_predictions, n=5)\n",
    "\n",
    "# Show Top 5 for first user\n",
    "sample_user_id = list(svd_top_5.keys())[0]\n",
    "print(f\"\\nTop 5 movieId recommendations for user {sample_user_id}: {svd_top_5[sample_user_id]}\")\n",
    "\n",
    "# Merged with movies DataFrame to get titles\n",
    "movie_map = dict(zip(movies['movieId'], movies['title']))\n",
    "print(\"\\nRecommended Movie Titles:\")\n",
    "for movie_id, est_rating in svd_top_5[sample_user_id]:\n",
    "    print(f\"{movie_map.get(movie_id, 'Unknown')} (Predicted Rating: {est_rating:.2f})\")\n"
   ]
  },
  {
   "cell_type": "markdown",
   "metadata": {},
   "source": [
    "The comparative evaluation of the two collaborative filtering models (SVD (model-based) and KNNBasic (memory-based)) shows that SVD outperforms KNNBasic in both RMSE and MAE. Specifically, SVD achieved an RMSE of 0.8368 and an MAE of 0.6395, whereas KNNBasic recorded a higher RMSE of 0.8844 and MAE of 0.6753, indicating lower predictive accuracy.\n",
    "\n",
    "To showcase the effectiveness of SVD in personalized recommendations, we generated Top 5 movie suggestions for each user. For example, user 20 received recommendations including classics like Alien (1979), Raiders of the Lost Ark (1981), and Terminator 2: Judgment Day (1991), each with high predicted ratings above 4.45. These results highlight SVD's ability to successfully capture user preferences and recommend relevant content, making it the more effective model for our system."
   ]
  },
  {
   "cell_type": "markdown",
   "metadata": {},
   "source": [
    "## Hybrid filtering\n",
    "Hybrid filtering combines collaborative filtering (CF) with content-based filtering (CBF) hence we can address address the cold-start problem."
   ]
  },
  {
   "cell_type": "markdown",
   "metadata": {},
   "source": [
    "#### 1. Creating Genre Vectors\n",
    "Used CountVectorizer to turn the genres into binary feature vectors."
   ]
  },
  {
   "cell_type": "code",
   "execution_count": 148,
   "metadata": {},
   "outputs": [
    {
     "data": {
      "text/html": [
       "<div>\n",
       "<style scoped>\n",
       "    .dataframe tbody tr th:only-of-type {\n",
       "        vertical-align: middle;\n",
       "    }\n",
       "\n",
       "    .dataframe tbody tr th {\n",
       "        vertical-align: top;\n",
       "    }\n",
       "\n",
       "    .dataframe thead th {\n",
       "        text-align: right;\n",
       "    }\n",
       "</style>\n",
       "<table border=\"1\" class=\"dataframe\">\n",
       "  <thead>\n",
       "    <tr style=\"text-align: right;\">\n",
       "      <th></th>\n",
       "      <th>action</th>\n",
       "      <th>adventure</th>\n",
       "      <th>animation</th>\n",
       "      <th>children</th>\n",
       "      <th>comedy</th>\n",
       "      <th>crime</th>\n",
       "      <th>documentary</th>\n",
       "      <th>drama</th>\n",
       "      <th>fantasy</th>\n",
       "      <th>fi</th>\n",
       "      <th>...</th>\n",
       "      <th>listed</th>\n",
       "      <th>musical</th>\n",
       "      <th>mystery</th>\n",
       "      <th>no</th>\n",
       "      <th>noir</th>\n",
       "      <th>romance</th>\n",
       "      <th>sci</th>\n",
       "      <th>thriller</th>\n",
       "      <th>war</th>\n",
       "      <th>western</th>\n",
       "    </tr>\n",
       "  </thead>\n",
       "  <tbody>\n",
       "    <tr>\n",
       "      <th>0</th>\n",
       "      <td>0</td>\n",
       "      <td>1</td>\n",
       "      <td>1</td>\n",
       "      <td>1</td>\n",
       "      <td>1</td>\n",
       "      <td>0</td>\n",
       "      <td>0</td>\n",
       "      <td>0</td>\n",
       "      <td>1</td>\n",
       "      <td>0</td>\n",
       "      <td>...</td>\n",
       "      <td>0</td>\n",
       "      <td>0</td>\n",
       "      <td>0</td>\n",
       "      <td>0</td>\n",
       "      <td>0</td>\n",
       "      <td>0</td>\n",
       "      <td>0</td>\n",
       "      <td>0</td>\n",
       "      <td>0</td>\n",
       "      <td>0</td>\n",
       "    </tr>\n",
       "    <tr>\n",
       "      <th>1</th>\n",
       "      <td>0</td>\n",
       "      <td>1</td>\n",
       "      <td>0</td>\n",
       "      <td>1</td>\n",
       "      <td>0</td>\n",
       "      <td>0</td>\n",
       "      <td>0</td>\n",
       "      <td>0</td>\n",
       "      <td>1</td>\n",
       "      <td>0</td>\n",
       "      <td>...</td>\n",
       "      <td>0</td>\n",
       "      <td>0</td>\n",
       "      <td>0</td>\n",
       "      <td>0</td>\n",
       "      <td>0</td>\n",
       "      <td>0</td>\n",
       "      <td>0</td>\n",
       "      <td>0</td>\n",
       "      <td>0</td>\n",
       "      <td>0</td>\n",
       "    </tr>\n",
       "    <tr>\n",
       "      <th>2</th>\n",
       "      <td>0</td>\n",
       "      <td>0</td>\n",
       "      <td>0</td>\n",
       "      <td>0</td>\n",
       "      <td>1</td>\n",
       "      <td>0</td>\n",
       "      <td>0</td>\n",
       "      <td>0</td>\n",
       "      <td>0</td>\n",
       "      <td>0</td>\n",
       "      <td>...</td>\n",
       "      <td>0</td>\n",
       "      <td>0</td>\n",
       "      <td>0</td>\n",
       "      <td>0</td>\n",
       "      <td>0</td>\n",
       "      <td>1</td>\n",
       "      <td>0</td>\n",
       "      <td>0</td>\n",
       "      <td>0</td>\n",
       "      <td>0</td>\n",
       "    </tr>\n",
       "    <tr>\n",
       "      <th>3</th>\n",
       "      <td>0</td>\n",
       "      <td>0</td>\n",
       "      <td>0</td>\n",
       "      <td>0</td>\n",
       "      <td>1</td>\n",
       "      <td>0</td>\n",
       "      <td>0</td>\n",
       "      <td>1</td>\n",
       "      <td>0</td>\n",
       "      <td>0</td>\n",
       "      <td>...</td>\n",
       "      <td>0</td>\n",
       "      <td>0</td>\n",
       "      <td>0</td>\n",
       "      <td>0</td>\n",
       "      <td>0</td>\n",
       "      <td>1</td>\n",
       "      <td>0</td>\n",
       "      <td>0</td>\n",
       "      <td>0</td>\n",
       "      <td>0</td>\n",
       "    </tr>\n",
       "    <tr>\n",
       "      <th>4</th>\n",
       "      <td>0</td>\n",
       "      <td>0</td>\n",
       "      <td>0</td>\n",
       "      <td>0</td>\n",
       "      <td>1</td>\n",
       "      <td>0</td>\n",
       "      <td>0</td>\n",
       "      <td>0</td>\n",
       "      <td>0</td>\n",
       "      <td>0</td>\n",
       "      <td>...</td>\n",
       "      <td>0</td>\n",
       "      <td>0</td>\n",
       "      <td>0</td>\n",
       "      <td>0</td>\n",
       "      <td>0</td>\n",
       "      <td>0</td>\n",
       "      <td>0</td>\n",
       "      <td>0</td>\n",
       "      <td>0</td>\n",
       "      <td>0</td>\n",
       "    </tr>\n",
       "  </tbody>\n",
       "</table>\n",
       "<p>5 rows × 24 columns</p>\n",
       "</div>"
      ],
      "text/plain": [
       "   action  adventure  animation  children  comedy  crime  documentary  drama  \\\n",
       "0       0          1          1         1       1      0            0      0   \n",
       "1       0          1          0         1       0      0            0      0   \n",
       "2       0          0          0         0       1      0            0      0   \n",
       "3       0          0          0         0       1      0            0      1   \n",
       "4       0          0          0         0       1      0            0      0   \n",
       "\n",
       "   fantasy  fi  ...  listed  musical  mystery  no  noir  romance  sci  \\\n",
       "0        1   0  ...       0        0        0   0     0        0    0   \n",
       "1        1   0  ...       0        0        0   0     0        0    0   \n",
       "2        0   0  ...       0        0        0   0     0        1    0   \n",
       "3        0   0  ...       0        0        0   0     0        1    0   \n",
       "4        0   0  ...       0        0        0   0     0        0    0   \n",
       "\n",
       "   thriller  war  western  \n",
       "0         0    0        0  \n",
       "1         0    0        0  \n",
       "2         0    0        0  \n",
       "3         0    0        0  \n",
       "4         0    0        0  \n",
       "\n",
       "[5 rows x 24 columns]"
      ]
     },
     "execution_count": 148,
     "metadata": {},
     "output_type": "execute_result"
    }
   ],
   "source": [
    "from sklearn.feature_extraction.text import CountVectorizer\n",
    "\n",
    "# Convert list of genres into space-separated strings\n",
    "movies['genre_str'] = movies['genres'].apply(lambda x: ' '.join(x))\n",
    "\n",
    "# Create the count matrix from genre strings\n",
    "count_vectorizer = CountVectorizer()\n",
    "genre_matrix = count_vectorizer.fit_transform(movies['genre_str'])\n",
    "\n",
    "# Convert to a DataFrame for clarity (compatible version)\n",
    "genre_df = pd.DataFrame(genre_matrix.toarray(), columns=count_vectorizer.get_feature_names())\n",
    "genre_df.head()\n"
   ]
  },
  {
   "cell_type": "markdown",
   "metadata": {},
   "source": [
    "#### 2. Compute Cosine Similarity Between Movies (Content-Based)"
   ]
  },
  {
   "cell_type": "code",
   "execution_count": 149,
   "metadata": {},
   "outputs": [],
   "source": [
    "from sklearn.metrics.pairwise import cosine_similarity\n",
    "\n",
    "# Compute cosine similarity matrix between movies\n",
    "genre_similarity = cosine_similarity(genre_matrix, genre_matrix)\n",
    "\n",
    "# Convert to DataFrame for easy referencing\n",
    "genre_sim_df = pd.DataFrame(genre_similarity, index=movies['movieId'], columns=movies['movieId'])\n"
   ]
  },
  {
   "cell_type": "markdown",
   "metadata": {},
   "source": [
    "#### 3. Merge Content & Collaborative Predictions\n",
    "Defining a function to blend the predicted rating from the SVD model (CF) with the genre similarity score (CBF)"
   ]
  },
  {
   "cell_type": "code",
   "execution_count": 150,
   "metadata": {},
   "outputs": [],
   "source": [
    "def hybrid_recommendations(user_id, top_n=5, alpha=0.7):\n",
    "    \"\"\"\n",
    "    Generate hybrid movie recommendations for a user.\n",
    "    \n",
    "    Parameters:\n",
    "        user_id: the user to recommend for\n",
    "        top_n: how many recommendations to return\n",
    "        alpha: blending factor (0=only CBF, 1=only CF)\n",
    "    \"\"\"\n",
    "    watched = filtered_ratings[filtered_ratings['userId'] == user_id]['movieId'].tolist()\n",
    "    unwatched = movies[~movies['movieId'].isin(watched)]\n",
    "\n",
    "    # CF Predictions using SVD\n",
    "    predictions = [svd.predict(user_id, int(mid)) for mid in unwatched['movieId']]\n",
    "    pred_ratings = {int(p.iid): p.est for p in predictions}\n",
    "\n",
    "    # Calculate hybrid score\n",
    "    hybrid_scores = []\n",
    "    for movie_id in unwatched['movieId']:\n",
    "        # CF prediction\n",
    "        cf_score = pred_ratings.get(movie_id, 0)\n",
    "\n",
    "        # Content similarity: average similarity to user's watched movies\n",
    "        if watched:\n",
    "            sim_scores = genre_sim_df.loc[movie_id, watched].mean()\n",
    "        else:\n",
    "            sim_scores = 0  # for completely new users\n",
    "\n",
    "        # Hybrid score\n",
    "        hybrid_score = alpha * cf_score + (1 - alpha) * sim_scores\n",
    "        hybrid_scores.append((movie_id, hybrid_score))\n",
    "\n",
    "    # Sort and return top N\n",
    "    hybrid_scores.sort(key=lambda x: x[1], reverse=True)\n",
    "    top_movie_ids = [mid for mid, score in hybrid_scores[:top_n]]\n",
    "\n",
    "    # Get titles\n",
    "    recommended = movies[movies['movieId'].isin(top_movie_ids)][['title']]\n",
    "    return recommended.reset_index(drop=True)\n"
   ]
  },
  {
   "cell_type": "markdown",
   "metadata": {},
   "source": [
    "To combine the strengths of both collaborative filtering (CF) and content-based filtering (CBF), we defined a hybrid_recommendations function. This function generates personalized movie recommendations by blending predicted ratings from the SVD model (CF) with genre similarity scores derived from movie metadata (CBF). For each unseen movie, we compute a hybrid score as a weighted average of the collaborative prediction and the content similarity to movies previously rated by the user. The alpha parameter controls this balance: higher values prioritize collaborative signals, while lower values give more weight to content-based similarities. This approach enhances recommendation quality, especially for users with limited rating history or for less-rated movies."
   ]
  },
  {
   "cell_type": "markdown",
   "metadata": {},
   "source": [
    "#### Recommender for a Sample User"
   ]
  },
  {
   "cell_type": "code",
   "execution_count": 151,
   "metadata": {},
   "outputs": [
    {
     "data": {
      "text/html": [
       "<div>\n",
       "<style scoped>\n",
       "    .dataframe tbody tr th:only-of-type {\n",
       "        vertical-align: middle;\n",
       "    }\n",
       "\n",
       "    .dataframe tbody tr th {\n",
       "        vertical-align: top;\n",
       "    }\n",
       "\n",
       "    .dataframe thead th {\n",
       "        text-align: right;\n",
       "    }\n",
       "</style>\n",
       "<table border=\"1\" class=\"dataframe\">\n",
       "  <thead>\n",
       "    <tr style=\"text-align: right;\">\n",
       "      <th></th>\n",
       "      <th>title</th>\n",
       "    </tr>\n",
       "  </thead>\n",
       "  <tbody>\n",
       "    <tr>\n",
       "      <th>0</th>\n",
       "      <td>Shawshank Redemption, The (1994)</td>\n",
       "    </tr>\n",
       "    <tr>\n",
       "      <th>1</th>\n",
       "      <td>North by Northwest (1959)</td>\n",
       "    </tr>\n",
       "    <tr>\n",
       "      <th>2</th>\n",
       "      <td>Casablanca (1942)</td>\n",
       "    </tr>\n",
       "    <tr>\n",
       "      <th>3</th>\n",
       "      <td>One Flew Over the Cuckoo's Nest (1975)</td>\n",
       "    </tr>\n",
       "    <tr>\n",
       "      <th>4</th>\n",
       "      <td>Guardians of the Galaxy (2014)</td>\n",
       "    </tr>\n",
       "  </tbody>\n",
       "</table>\n",
       "</div>"
      ],
      "text/plain": [
       "                                    title\n",
       "0        Shawshank Redemption, The (1994)\n",
       "1               North by Northwest (1959)\n",
       "2                       Casablanca (1942)\n",
       "3  One Flew Over the Cuckoo's Nest (1975)\n",
       "4          Guardians of the Galaxy (2014)"
      ]
     },
     "execution_count": 151,
     "metadata": {},
     "output_type": "execute_result"
    }
   ],
   "source": [
    "hybrid_recommendations(user_id=1, top_n=5, alpha=0.7)"
   ]
  },
  {
   "cell_type": "markdown",
   "metadata": {},
   "source": [
    "Went ahead and recommended top five movies for user 1 using the Hybrid model and the recommended movies include: Shawshank Redemption, The (1994), North by Northwest (1959), Casablanca (1942), One Flew Over the Cuckoo's Nest (1975), Guardians of the Galaxy (2014)."
   ]
  },
  {
   "cell_type": "markdown",
   "metadata": {},
   "source": [
    "#### 4. Comparing Top 5 Recommendations for a User"
   ]
  },
  {
   "cell_type": "code",
   "execution_count": 152,
   "metadata": {},
   "outputs": [
    {
     "name": "stdout",
     "output_type": "stream",
     "text": [
      " SVD Top 5 for User 1:\n",
      "                                    title\n",
      "0        Shawshank Redemption, The (1994)\n",
      "1                       Casablanca (1942)\n",
      "2  One Flew Over the Cuckoo's Nest (1975)\n",
      "3                        Chinatown (1974)\n",
      "4          Guardians of the Galaxy (2014)\n",
      "\n",
      " Hybrid Top 5 for User 1:\n",
      "                                    title\n",
      "0        Shawshank Redemption, The (1994)\n",
      "1               North by Northwest (1959)\n",
      "2                       Casablanca (1942)\n",
      "3  One Flew Over the Cuckoo's Nest (1975)\n",
      "4          Guardians of the Galaxy (2014)\n"
     ]
    }
   ],
   "source": [
    "# Pure SVD recommendations\n",
    "def svd_top_n(user_id, n=5):\n",
    "    watched = filtered_ratings[filtered_ratings['userId'] == user_id]['movieId'].tolist()\n",
    "    unwatched = movies[~movies['movieId'].isin(watched)]\n",
    "    \n",
    "    preds = [svd.predict(user_id, int(mid)) for mid in unwatched['movieId']]\n",
    "    preds.sort(key=lambda x: x.est, reverse=True)\n",
    "    top_ids = [int(p.iid) for p in preds[:n]]\n",
    "    \n",
    "    return movies[movies['movieId'].isin(top_ids)][['title']].reset_index(drop=True)\n",
    "\n",
    "# SVD vs Hybrid\n",
    "print(\" SVD Top 5 for User 1:\")\n",
    "print(svd_top_n(1))\n",
    "\n",
    "print(\"\\n Hybrid Top 5 for User 1:\")\n",
    "print(hybrid_recommendations(1))\n"
   ]
  },
  {
   "cell_type": "markdown",
   "metadata": {},
   "source": [
    "From the above, compared Top 5 recommendations from both the SVD model and our hybrid filtering system for a sample user (User 1). The hybrid model successfully retained some of the top collaborative picks while introducing new recommendations that align closely in genre. For instance, while both models recommended Shawshank Redemption, Casablanca (1942), One Flew Over the Cuckoo's Nest (1975) and Guardians of the Galaxy (2014) the hybrid model added North by Northwest (1959) with thematic or stylistic similarities thereby increasing recommendation diversity and mitigating cold-start limitations."
   ]
  },
  {
   "cell_type": "code",
   "execution_count": 153,
   "metadata": {},
   "outputs": [
    {
     "name": "stdout",
     "output_type": "stream",
     "text": [
      " Hybrid Recommendations for a Cold-Start User (no ratings):\n",
      "                                               title\n",
      "0                   Shawshank Redemption, The (1994)\n",
      "1  Dr. Strangelove or: How I Learned to Stop Worr...\n",
      "2                                 Rear Window (1954)\n",
      "3                                  Casablanca (1942)\n",
      "4  Amelie (Fabuleux destin d'Amélie Poulain, Le) ...\n"
     ]
    }
   ],
   "source": [
    "# Simulate a cold start user\n",
    "print(\" Hybrid Recommendations for a Cold-Start User (no ratings):\")\n",
    "print(hybrid_recommendations(user_id=999999, top_n=5))\n"
   ]
  },
  {
   "cell_type": "markdown",
   "metadata": {},
   "source": [
    "For a cold start user, the SVD model can’t predict anything meaningful for new users, but hybrid filtering will rely on genre similarity, so it still returns results."
   ]
  },
  {
   "cell_type": "markdown",
   "metadata": {},
   "source": [
    "## Conclusion\n",
    "This project successfully developed a personalized movie recommendation system using the MovieLens 100K dataset. Through collaborative filtering and hybrid modeling approaches, we were able to explore user behaviors, rating patterns, and model performance to improve recommendation quality.\n",
    "\n",
    "The analysis revealed that users tend to rate highly-rated movies from popular genres such as Drama, Comedy, and Thriller. The most active users and frequently rated movies provided stronger signals for collaborative filtering, while genres played a vital role in understanding content similarity for hybrid approaches. Consistent rating habits and preference for specific genres (e.g., users repeatedly rating thrillers highly) were particularly useful in anticipating future interests.\n",
    "\n",
    "Our evaluation showed that model-based collaborative filtering using SVD outperformed memory-based KNN in terms of both RMSE (0.8368 vs. 0.8844) and MAE (0.6395 vs. 0.6753). This suggests that SVD provides better generalization and accuracy, especially in sparse datasets where many user-item combinations are missing. Memory-based KNN struggled with scalability and sparsity, making it less suitable for large-scale deployment.\n",
    "\n",
    "The SVD model was able to generate high-quality, personalized Top 5 recommendations that aligned with user rating behavior. Additionally, the hybrid model, which combined collaborative filtering with content-based genre similarity, further enhanced relevance especially for users with fewer historical ratings (cold-start users) or for less-rated movies. This demonstrated the system's flexibility and robustness in delivering accurate and diverse recommendations.\n"
   ]
  },
  {
   "cell_type": "markdown",
   "metadata": {},
   "source": [
    "## Recommendation\n",
    "- Deploy a model-based recommendation engine as the core recommender due to its strong performance in predictive accuracy and scalability.\n",
    "- Incorporate hybrid filtering in production to address the cold-start problem, enhancing recommendations for new users or niche content by leveraging content metadata like genres.\n",
    "- Expand feature sets (e.g., tags, timestamps, or user demographics if available) to support more advanced models like neural collaborative filtering or reinforcement learning in future versions.\n",
    "- Update the model periodically using fresh user rating data to adapt to evolving user preferences and maintain recommendation relevance."
   ]
  },
  {
   "cell_type": "code",
   "execution_count": null,
   "metadata": {},
   "outputs": [],
   "source": []
  }
 ],
 "metadata": {
  "kernelspec": {
   "display_name": "Python 3",
   "language": "python",
   "name": "python3"
  },
  "language_info": {
   "codemirror_mode": {
    "name": "ipython",
    "version": 3
   },
   "file_extension": ".py",
   "mimetype": "text/x-python",
   "name": "python",
   "nbconvert_exporter": "python",
   "pygments_lexer": "ipython3",
   "version": "3.8.5"
  }
 },
 "nbformat": 4,
 "nbformat_minor": 5
}
